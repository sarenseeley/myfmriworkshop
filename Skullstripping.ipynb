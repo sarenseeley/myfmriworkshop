{
 "cells": [
  {
   "cell_type": "markdown",
   "metadata": {},
   "source": [
    "## Skullstripping"
   ]
  },
  {
   "cell_type": "markdown",
   "metadata": {},
   "source": [
    "<u>Notes:</u><br>\n",
    "To create a new cell, Shift+Enter <br>\n",
    "Update to Python 3? Only reason to have Python 2 is because FSL installer only works with 2 (Google \"update Anaconda\")<br>"
   ]
  },
  {
   "cell_type": "code",
   "execution_count": 2,
   "metadata": {
    "collapsed": true
   },
   "outputs": [],
   "source": [
    "# code\n",
    "a = 2"
   ]
  },
  {
   "cell_type": "code",
   "execution_count": 3,
   "metadata": {},
   "outputs": [
    {
     "name": "stdout",
     "output_type": "stream",
     "text": [
      "2\n"
     ]
    }
   ],
   "source": [
    "print(a)"
   ]
  },
  {
   "cell_type": "code",
   "execution_count": 1,
   "metadata": {
    "collapsed": true
   },
   "outputs": [],
   "source": [
    "import glob"
   ]
  },
  {
   "cell_type": "code",
   "execution_count": 5,
   "metadata": {},
   "outputs": [
    {
     "data": {
      "text/plain": [
       "['fMRI workshop test notebook.ipynb',\n",
       " 'my_prepro.py',\n",
       " 'my_prepro_test.py',\n",
       " 'README.md']"
      ]
     },
     "execution_count": 5,
     "metadata": {},
     "output_type": "execute_result"
    }
   ],
   "source": [
    "glob.glob(\"*\")"
   ]
  },
  {
   "cell_type": "markdown",
   "metadata": {},
   "source": [
    "<b>To import a single function from a package:</b>"
   ]
  },
  {
   "cell_type": "code",
   "execution_count": 2,
   "metadata": {
    "collapsed": true
   },
   "outputs": [],
   "source": [
    "from glob import glob\n",
    "# now you only have to type glob, rather than glob.glob"
   ]
  },
  {
   "cell_type": "code",
   "execution_count": null,
   "metadata": {
    "collapsed": true
   },
   "outputs": [],
   "source": []
  },
  {
   "cell_type": "code",
   "execution_count": 32,
   "metadata": {},
   "outputs": [
    {
     "name": "stdout",
     "output_type": "stream",
     "text": [
      "/Users/sarenseeley/Desktop/data/subjects/sub-10159/anat/*.nii.gz\n"
     ]
    }
   ],
   "source": [
    "# tab completion works well to fill in locations\n",
    "t1w = (\"/Users/sarenseeley/Desktop/data/subjects/sub-10159/anat/*.nii.gz\")\n",
    "print(t1w)"
   ]
  },
  {
   "cell_type": "code",
   "execution_count": 21,
   "metadata": {
    "collapsed": true
   },
   "outputs": [],
   "source": [
    "import os"
   ]
  },
  {
   "cell_type": "code",
   "execution_count": 22,
   "metadata": {},
   "outputs": [
    {
     "data": {
      "text/plain": [
       "256"
      ]
     },
     "execution_count": 22,
     "metadata": {},
     "output_type": "execute_result"
    }
   ],
   "source": [
    "os.system(\"bet\")"
   ]
  },
  {
   "cell_type": "code",
   "execution_count": 23,
   "metadata": {
    "collapsed": true
   },
   "outputs": [],
   "source": [
    "# another way to call things\n",
    "from subprocess import check_call"
   ]
  },
  {
   "cell_type": "code",
   "execution_count": 25,
   "metadata": {
    "collapsed": true
   },
   "outputs": [],
   "source": [
    "check_call?\n",
    "# use check_call to identify errors and debug code"
   ]
  },
  {
   "cell_type": "code",
   "execution_count": 27,
   "metadata": {},
   "outputs": [
    {
     "ename": "CalledProcessError",
     "evalue": "Command 'bet' returned non-zero exit status 1",
     "output_type": "error",
     "traceback": [
      "\u001b[0;31m---------------------------------------------------------------------------\u001b[0m",
      "\u001b[0;31mCalledProcessError\u001b[0m                        Traceback (most recent call last)",
      "\u001b[0;32m<ipython-input-27-734f92e602af>\u001b[0m in \u001b[0;36m<module>\u001b[0;34m()\u001b[0m\n\u001b[0;32m----> 1\u001b[0;31m \u001b[0mcheck_call\u001b[0m\u001b[0;34m(\u001b[0m\u001b[0;34m\"bet\"\u001b[0m\u001b[0;34m)\u001b[0m\u001b[0;34m\u001b[0m\u001b[0m\n\u001b[0m",
      "\u001b[0;32m/anaconda2/lib/python2.7/subprocess.pyc\u001b[0m in \u001b[0;36mcheck_call\u001b[0;34m(*popenargs, **kwargs)\u001b[0m\n\u001b[1;32m    184\u001b[0m         \u001b[0;32mif\u001b[0m \u001b[0mcmd\u001b[0m \u001b[0;32mis\u001b[0m \u001b[0mNone\u001b[0m\u001b[0;34m:\u001b[0m\u001b[0;34m\u001b[0m\u001b[0m\n\u001b[1;32m    185\u001b[0m             \u001b[0mcmd\u001b[0m \u001b[0;34m=\u001b[0m \u001b[0mpopenargs\u001b[0m\u001b[0;34m[\u001b[0m\u001b[0;36m0\u001b[0m\u001b[0;34m]\u001b[0m\u001b[0;34m\u001b[0m\u001b[0m\n\u001b[0;32m--> 186\u001b[0;31m         \u001b[0;32mraise\u001b[0m \u001b[0mCalledProcessError\u001b[0m\u001b[0;34m(\u001b[0m\u001b[0mretcode\u001b[0m\u001b[0;34m,\u001b[0m \u001b[0mcmd\u001b[0m\u001b[0;34m)\u001b[0m\u001b[0;34m\u001b[0m\u001b[0m\n\u001b[0m\u001b[1;32m    187\u001b[0m     \u001b[0;32mreturn\u001b[0m \u001b[0;36m0\u001b[0m\u001b[0;34m\u001b[0m\u001b[0m\n\u001b[1;32m    188\u001b[0m \u001b[0;34m\u001b[0m\u001b[0m\n",
      "\u001b[0;31mCalledProcessError\u001b[0m: Command 'bet' returned non-zero exit status 1"
     ]
    }
   ],
   "source": [
    "check_call(\"bet\")"
   ]
  },
  {
   "cell_type": "code",
   "execution_count": 30,
   "metadata": {},
   "outputs": [
    {
     "name": "stdout",
     "output_type": "stream",
     "text": [
      "README.md                         my_prepro.py\r\n",
      "fMRI workshop test notebook.ipynb my_prepro_test.py\r\n"
     ]
    }
   ],
   "source": [
    "# ! allows you to very quickly run bash commands from within notebook\n",
    "!ls"
   ]
  },
  {
   "cell_type": "code",
   "execution_count": 29,
   "metadata": {},
   "outputs": [
    {
     "name": "stdout",
     "output_type": "stream",
     "text": [
      "\r\n",
      "Usage:    bet <input> <output> [options]\r\n",
      "\r\n",
      "Main bet2 options:\r\n",
      "  -o          generate brain surface outline overlaid onto original image\r\n",
      "  -m          generate binary brain mask\r\n",
      "  -s          generate approximate skull image\r\n",
      "  -n          don't generate segmented brain image output\r\n",
      "  -f <f>      fractional intensity threshold (0->1); default=0.5; smaller values give larger brain outline estimates\r\n",
      "  -g <g>      vertical gradient in fractional intensity threshold (-1->1); default=0; positive values give larger brain outline at bottom, smaller at top\r\n",
      "  -r <r>      head radius (mm not voxels); initial surface sphere is set to half of this\r\n",
      "  -c <x y z>  centre-of-gravity (voxels not mm) of initial mesh surface.\r\n",
      "  -t          apply thresholding to segmented brain image and mask\r\n",
      "  -e          generates brain surface as mesh in .vtk format\r\n",
      "\r\n",
      "Variations on default bet2 functionality (mutually exclusive options):\r\n",
      "  (default)   just run bet2\r\n",
      "  -R          robust brain centre estimation (iterates BET several times)\r\n",
      "  -S          eye & optic nerve cleanup (can be useful in SIENA)\r\n",
      "  -B          bias field & neck cleanup (can be useful in SIENA)\r\n",
      "  -Z          improve BET if FOV is very small in Z (by temporarily padding end slices)\r\n",
      "  -F          apply to 4D FMRI data (uses -f 0.3 and dilates brain mask slightly)\r\n",
      "  -A          run bet2 and then betsurf to get additional skull and scalp surfaces (includes registrations)\r\n",
      "  -A2 <T2>    as with -A, when also feeding in non-brain-extracted T2 (includes registrations)\r\n",
      "\r\n",
      "Miscellaneous options:\r\n",
      "  -v          verbose (switch on diagnostic messages)\r\n",
      "  -h          display this help, then exits\r\n",
      "  -d          debug (don't delete temporary intermediate images)\r\n",
      "\r\n"
     ]
    }
   ],
   "source": [
    "!bet\n",
    "# reminds us how to use bet"
   ]
  },
  {
   "cell_type": "code",
   "execution_count": 36,
   "metadata": {},
   "outputs": [
    {
     "data": {
      "text/plain": [
       "0"
      ]
     },
     "execution_count": 36,
     "metadata": {},
     "output_type": "execute_result"
    }
   ],
   "source": [
    "check_call(\"bet /Users/sarenseeley/Desktop/sampledata/sub-01/anat/sub-01_T1w.nii.gz /tmp/sub-01_T1w_brain.nii.gz\", shell=True)"
   ]
  },
  {
   "cell_type": "code",
   "execution_count": 37,
   "metadata": {},
   "outputs": [
    {
     "name": "stdout",
     "output_type": "stream",
     "text": [
      "/tmp/sub-01_T1w_brain.nii.gz\r\n"
     ]
    }
   ],
   "source": [
    "!ls /tmp/sub-01_T1w_brain.nii.gz"
   ]
  },
  {
   "cell_type": "code",
   "execution_count": 58,
   "metadata": {},
   "outputs": [
    {
     "name": "stdout",
     "output_type": "stream",
     "text": [
      "/tmp/sub-01_T1w.nii.gz       /tmp/sub-01_T1w_brain.nii.gz\r\n"
     ]
    }
   ],
   "source": [
    "!ls /tmp/s*"
   ]
  },
  {
   "cell_type": "code",
   "execution_count": 72,
   "metadata": {
    "collapsed": true
   },
   "outputs": [],
   "source": [
    "# looping over multiple subjects (skull-stripping in FSL)\n",
    "# bet by default only creates skull-stripped brain, not mask. add -m to create mask as well.\n",
    "\n",
    "output_dir = \"/tmp\"\n",
    "for input_file in glob(\"/Users/sarenseeley/Desktop/data/subjects/sub-*/anat/*_T1w.nii.gz\"):\n",
    "    my_cmd_template = \"bet {input_file} {output_file} -m\"\n",
    "    directory, filename = os.path.split(input_file)\n",
    "    list_of_tokens=filename.split(\".\")\n",
    "    out_filename=list_of_tokens[0] + \"_brain\"\n",
    "    out_path =  os.path.join(output_dir, out_filename)\n",
    "    cmd = my_cmd_template.format(input_file=input_file, output_file=out_path)\n",
    "    \n",
    "    check_call(cmd, shell=True)"
   ]
  },
  {
   "cell_type": "markdown",
   "metadata": {},
   "source": [
    "#### Code snippets and examples for function"
   ]
  },
  {
   "cell_type": "code",
   "execution_count": 73,
   "metadata": {
    "collapsed": true
   },
   "outputs": [],
   "source": [
    "directory, filename = os.path.split(\"Users/sarenseeley/Desktop/data/subjects/sub-10159/anat/sub-10159_T1w.nii.gz\")"
   ]
  },
  {
   "cell_type": "code",
   "execution_count": 74,
   "metadata": {},
   "outputs": [
    {
     "name": "stdout",
     "output_type": "stream",
     "text": [
      "Users/sarenseeley/Desktop/data/subjects/sub-10159/anat\n",
      "sub-10159_T1w.nii.gz\n"
     ]
    }
   ],
   "source": [
    "print(directory)\n",
    "print(filename)"
   ]
  },
  {
   "cell_type": "code",
   "execution_count": 75,
   "metadata": {},
   "outputs": [
    {
     "name": "stdout",
     "output_type": "stream",
     "text": [
      "['sub-10159_T1w', 'nii', 'gz']\n"
     ]
    }
   ],
   "source": [
    "# how to remove file extension?\n",
    "# example: splitting on the space prints a list of each word (must be assigned to variable to actually exist as a list)\n",
    "\"quick brown dog jumped over the lazy fox\".split(\" \")\n",
    "\n",
    "# remove extension .nii.gz by splitting string on the .\n",
    "list_of_tokens=\"sub-10159_T1w.nii.gz\".split(\".\")\n",
    "print(list_of_tokens)"
   ]
  },
  {
   "cell_type": "code",
   "execution_count": 76,
   "metadata": {},
   "outputs": [
    {
     "data": {
      "text/plain": [
       "'sub-10159_T1w'"
      ]
     },
     "execution_count": 76,
     "metadata": {},
     "output_type": "execute_result"
    }
   ],
   "source": [
    "# index the list \n",
    "# remember, in Python 1st item is 0\n",
    "list_of_tokens[0]"
   ]
  },
  {
   "cell_type": "code",
   "execution_count": 77,
   "metadata": {},
   "outputs": [
    {
     "data": {
      "text/plain": [
       "'dir1/dir2/dir3'"
      ]
     },
     "execution_count": 77,
     "metadata": {},
     "output_type": "execute_result"
    }
   ],
   "source": [
    "# take list of tokens and create path out of them \n",
    "# i.e., creates /dir1/dir2/dir3\n",
    "os.path.join(\"dir1\", \"dir2\", \"dir3\")"
   ]
  },
  {
   "cell_type": "code",
   "execution_count": 78,
   "metadata": {},
   "outputs": [
    {
     "name": "stdout",
     "output_type": "stream",
     "text": [
      "raccoon is the best animal\n",
      "squirrel is the best animal\n",
      "pigeon is the best animal\n"
     ]
    }
   ],
   "source": [
    "# making a template with placeholders {}\n",
    "\n",
    "template = \"{animal_name} is the best animal\"\n",
    "print(template.format(animal_name=\"raccoon\"))\n",
    "print(template.format(animal_name=\"squirrel\"))\n",
    "print(template.format(animal_name=\"pigeon\"))"
   ]
  },
  {
   "cell_type": "code",
   "execution_count": null,
   "metadata": {
    "collapsed": true
   },
   "outputs": [],
   "source": []
  },
  {
   "cell_type": "code",
   "execution_count": null,
   "metadata": {
    "collapsed": true
   },
   "outputs": [],
   "source": []
  }
 ],
 "metadata": {
  "kernelspec": {
   "display_name": "Python 2",
   "language": "python",
   "name": "python2"
  },
  "language_info": {
   "codemirror_mode": {
    "name": "ipython",
    "version": 2
   },
   "file_extension": ".py",
   "mimetype": "text/x-python",
   "name": "python",
   "nbconvert_exporter": "python",
   "pygments_lexer": "ipython2",
   "version": "2.7.14"
  }
 },
 "nbformat": 4,
 "nbformat_minor": 2
}
